{
 "cells": [
  {
   "cell_type": "code",
   "execution_count": 1,
   "metadata": {},
   "outputs": [],
   "source": [
    "import numpy as np\n",
    "import matplotlib.pyplot as plt\n",
    "import exoplanet as exo\n",
    "import theano.tensor as T"
   ]
  },
  {
   "cell_type": "code",
   "execution_count": 2,
   "metadata": {},
   "outputs": [],
   "source": [
    "t0 = 2.003\n",
    "period = 5.897\n",
    "b = 0.34\n",
    "duration = 0.091\n",
    "rp = 0.07\n",
    "\n",
    "t = np.arange(0, 3*period, 0.5/24)\n",
    "u = [0.3, 0.2]"
   ]
  },
  {
   "cell_type": "code",
   "execution_count": 6,
   "metadata": {},
   "outputs": [
    {
     "name": "stderr",
     "output_type": "stream",
     "text": [
      "/Users/research/projects/exo-dev/exo-dev-venv/lib/python3.7/site-packages/theano/tensor/subtensor.py:2197: FutureWarning: Using a non-tuple sequence for multidimensional indexing is deprecated; use `arr[tuple(seq)]` instead of `arr[seq]`. In the future this will be interpreted as an array index, `arr[np.array(seq)]`, which will result either in an error or a different result.\n",
      "  rval = inputs[0].__getitem__(inputs[1:])\n",
      "ERROR (theano.gof.opt): Optimization failure due to: constant_folding\n",
      "ERROR (theano.gof.opt): node: Elemwise{add,no_inplace}(TensorConstant{[[[1.22709..480e+00]]]}, TensorConstant{(1, 18, 7)..0000000002})\n",
      "ERROR (theano.gof.opt): TRACEBACK:\n",
      "ERROR (theano.gof.opt): Traceback (most recent call last):\n",
      "  File \"/Users/research/projects/exo-dev/exo-dev-venv/lib/python3.7/site-packages/theano/gof/opt.py\", line 2034, in process_node\n",
      "    replacements = lopt.transform(node)\n",
      "  File \"/Users/research/projects/exo-dev/exo-dev-venv/lib/python3.7/site-packages/theano/tensor/opt.py\", line 6518, in constant_folding\n",
      "    required = thunk()\n",
      "  File \"/Users/research/projects/exo-dev/exo-dev-venv/lib/python3.7/site-packages/theano/gof/op.py\", line 862, in rval\n",
      "    thunk()\n",
      "  File \"/Users/research/projects/exo-dev/exo-dev-venv/lib/python3.7/site-packages/theano/gof/cc.py\", line 1739, in __call__\n",
      "    reraise(exc_type, exc_value, exc_trace)\n",
      "  File \"/Users/research/projects/exo-dev/exo-dev-venv/lib/python3.7/site-packages/six.py\", line 703, in reraise\n",
      "    raise value\n",
      "ValueError: Input dimension mis-match. (input[0].shape[1] = 7, input[1].shape[1] = 18)\n",
      "\n"
     ]
    },
    {
     "data": {
      "image/png": "[encoded data removed]",
      "text/plain": [
       "<Figure size 576x360 with 1 Axes>"
      ]
     },
     "metadata": {
      "needs_background": "light"
     },
     "output_type": "display_data"
    }
   ],
   "source": [
    "tdvs = np.zeros(3)\n",
    "transit_durs = np.ones(3)*duration\n",
    "\n",
    "#orbit = exo.orbits.TDVOrbit(t0=t0, period=period, b=b, duration=duration)\n",
    "#orbit = exo.orbits.TDVOrbit(t0=t0, period=period, b=b, duration=[duration], tdvs=[tdvs])\n",
    "orbit = exo.orbits.TDVOrbit(t0=t0, period=period, b=b, transit_durs=[transit_durs])\n",
    "\n",
    "light_curve = exo.LimbDarkLightCurve(u).get_light_curve(orbit=orbit, r=rp, t=t, texp=0.5/24).eval()\n",
    "\n",
    "plt.figure(figsize=(8,5))\n",
    "plt.plot(t, light_curve)\n",
    "plt.show()"
   ]
  },
  {
   "cell_type": "code",
   "execution_count": null,
   "metadata": {},
   "outputs": [],
   "source": []
  },
  {
   "cell_type": "code",
   "execution_count": 4,
   "metadata": {},
   "outputs": [
    {
     "data": {
      "text/plain": [
       "array([0., 0., 0.])"
      ]
     },
     "execution_count": 4,
     "metadata": {},
     "output_type": "execute_result"
    }
   ],
   "source": [
    "# supplying tdvs seems to be working\n",
    "orbit = exo.orbits.TDVOrbit(t0=t0, period=period, b=b, duration=[duration], tdvs=[tdvs])\n",
    "orbit.tdvs[0].eval()"
   ]
  },
  {
   "cell_type": "code",
   "execution_count": null,
   "metadata": {},
   "outputs": [],
   "source": []
  },
  {
   "cell_type": "code",
   "execution_count": 5,
   "metadata": {},
   "outputs": [
    {
     "data": {
      "text/plain": [
       "array([-1.38777878e-17, -1.38777878e-17, -1.38777878e-17])"
      ]
     },
     "execution_count": 5,
     "metadata": {},
     "output_type": "execute_result"
    }
   ],
   "source": [
    "# supplying transit_durs isn't working\n",
    "orbit = exo.orbits.TDVOrbit(t0=t0, period=period, b=b, transit_durs=[transit_durs])\n",
    "orbit.tdvs[0].eval()"
   ]
  },
  {
   "cell_type": "code",
   "execution_count": null,
   "metadata": {},
   "outputs": [],
   "source": []
  }
 ],
 "metadata": {
  "kernelspec": {
   "display_name": "Python 3",
   "language": "python",
   "name": "python3"
  },
  "language_info": {
   "codemirror_mode": {
    "name": "ipython",
    "version": 3
   },
   "file_extension": ".py",
   "mimetype": "text/x-python",
   "name": "python",
   "nbconvert_exporter": "python",
   "pygments_lexer": "ipython3",
   "version": "3.7.3"
  }
 },
 "nbformat": 4,
 "nbformat_minor": 2
}
